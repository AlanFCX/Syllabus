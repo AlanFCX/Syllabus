{
 "cells": [
  {
   "cell_type": "markdown",
   "metadata": {},
   "source": [
    "<p>\n",
    "<font size='5' face='Georgia, Arial'>IIC2115 - Programación como herramienta para la ingeniería</font><br>\n",
    "</p>"
   ]
  },
  {
   "cell_type": "markdown",
   "metadata": {},
   "source": [
    "# Recursión\n",
    "\n",
    "En esta sección describiremos distintas formas de **recursión** para construir algoritmos. La recursión es uno de los elementos fundamentales de la computación y nos permite encontrar, generalmente, soluciones compactas y elegantes a los problemas. Escribir algoritmos recursivos requiere práctica y muchas veces la solución es menos eficiente que las de un simple algoritmo iterativo, pero como veremos al final de esta sección, existen problemas para los cuales escribir un algoritmo iterativo es complejo, donde la recursión, a pesar de ser menos eficiente en cuanto al uso de recursos, permite definir una solución natural y entendible."
   ]
  },
  {
   "cell_type": "markdown",
   "metadata": {},
   "source": [
    "## Recursión e iteración lineal\n",
    "\n",
    "Comencemos el análisis considerando la función **factorial** definida de la siguiente manera:\n",
    "\n",
    "\\begin{equation*}\n",
    "    n! = n\\cdot (n-1) \\cdot (n-2) \\cdots \\ 3 \\cdot 2 \\cdot 1\n",
    "\\end{equation*}\n",
    "\n",
    "Existen muchas maneras de calcular el valor de esta función. Una posible es usar el hecho que \n",
    "\n",
    "\\begin{equation*}\n",
    "    n! = \\left[(n-1) \\cdot (n-2) \\cdots \\ 3 \\cdot 2 \\cdot 1 \\right] = n\\cdot (n-1)!,\n",
    "\\end{equation*}\n",
    "\n",
    "para cualquier entero positivo $n$. Si a esta última definición le agregamos la condición que $1! = 1$, podemos traspasar todo directamente a una función:"
   ]
  },
  {
   "cell_type": "code",
   "execution_count": 1,
   "metadata": {},
   "outputs": [
    {
     "data": {
      "text/plain": [
       "120"
      ]
     },
     "execution_count": 1,
     "metadata": {},
     "output_type": "execute_result"
    }
   ],
   "source": [
    "def factorial_recursivo(n):\n",
    "    if n == 1:\n",
    "        return 1\n",
    "    return n*factorial_recursivo(n-1)\n",
    "\n",
    "factorial_recursivo(5)"
   ]
  },
  {
   "cell_type": "markdown",
   "metadata": {},
   "source": [
    "Enfrentemos ahora de una manera distinta el cálculo del factorial de un número. Podríamos describir una regla para calcular $n!$, especidficando que primero multiplicamos $1$ por $2$, luego el resultado por $3$, después por $4$, y así sucesivamente hasta llegar a $n$. Formalmente, mantendríamos como variables un producto acumulado, junto con un contador que va de $1$ a $n$. El algoritmo podría describirse diciendo que tanto el contador como el producto son simultaneamente actualizados de un paso al siguiente, de acuerdo a la siguiente regla:\n",
    "\n",
    "\\begin{align*}\n",
    "    producto &= contador \\cdot producto \\\\\n",
    "    contador &= contador + 1\n",
    "\\end{align*}\n",
    "\n",
    "y especificando que el resultado, $n!$ es el valor de la variable $producto$, cuando el contador excede el valor de $n$."
   ]
  },
  {
   "cell_type": "markdown",
   "metadata": {},
   "source": [
    "Nuevamente, podemos escribir código en Python siguiendo la regla recién descrita:"
   ]
  },
  {
   "cell_type": "code",
   "execution_count": 2,
   "metadata": {},
   "outputs": [
    {
     "data": {
      "text/plain": [
       "120"
      ]
     },
     "execution_count": 2,
     "metadata": {},
     "output_type": "execute_result"
    }
   ],
   "source": [
    "def factorial_iterativo(n):\n",
    "    contador = 1\n",
    "    producto = 1\n",
    "    while contador <= n:\n",
    "        producto *= contador\n",
    "        contador += 1\n",
    "    return producto\n",
    "\n",
    "factorial_iterativo(5)"
   ]
  },
  {
   "cell_type": "markdown",
   "metadata": {},
   "source": [
    "Al comparar ambos modos de solucionar el problema, podemos notar que desde el punto de la secuencia de resultados parciales que generan, ambos son idénticos. Más aún, ambos utilizan la misma operación (producto), y además toman la misma cantidad de pasos para obtener el resultados. Sólo al analizar el modo en que se *gestan* las operaciones, notamos las diferencias fundamentales entre ambas maneras de resolver el problema.\n",
    "\n",
    "Consideremos inicialmente el caso de la recursión. El algoritmo funciona generando una serie de llamadas a la función *factorial_recursivo*, con la particularidad que sólo una de ellas (la última) retorna inmediatamente el resultado. Una vez que esta retorna el resultado, la penúltima llamada es también capaz de retornar un resultado, y así sucesivamente. Esto es análogo a apilar llamadas sucesivas a la misma función en un *stack*, donde sólo podemos obtener el retorno de una, si conocemos el retorno de la que está inmediatamente encima de ella. Así, basta con obtener el valor de retorno de la llamada que está en el tope el stack (caso base donde n==1), para obtener el valor de retorno de todas. Este tipo de recursión es conocida como **recursión lineal**, donde la *cadena* de llamadas a funciones que esperan para generar su valor de retorno (funciones en el stack), tiene un tamaño proporcional al valor del parámetro entregado a la primera llamada a la función, en este caso, $n$.\n",
    "\n",
    "Por el contrario, en el caso del factorial calculado de forma iterativa, no existe nada parecido a una cadena de llamadas a funciones en espera. Sólo se tiene un conjunto de variables, donde se mantienen y actualizan los valores relevantes para la solución. Este tipo de procedimiento se conoce como proceso **iterativo_lineal**, la cantidad de pasos (iteraciones) necesaria para solucionar el problema es proporcional al valor del parámetro de entrada a la función $n$, pero a diferencia de la **recursión lineal**, el estado actual se puede resumir en un conjunto fijo de variables y una cantidad fija de reglas que definen como cambia el estado de las variables durante la ejecución.\n",
    "\n",
    "Otra manera de contrastar las diferencias entre ambos esquemas es notar que, en el caso del proceso iterativo, la variables contienen una descripción completa de la solución parcial. Esto significa que si el programa es detenido luego de una iteración,  todo lo que se necesita para volver a ejecutar son los valores almacenados en las variables. Por el contrario, para la recursión, si el procedimiento es detenido antes de ejecutar un nuevo paso (llamado recursivo a una función), la información no está contenido en ninguna variable. Para este caso, la información se encuentra *escondida*, y es manejada por el interprete del lenguaje, en este caso, Python. Mientras más larga sea la cadena de llamados a funciones, mayor es la cantidad de información *escondida*."
   ]
  },
  {
   "cell_type": "markdown",
   "metadata": {},
   "source": [
    "Para terminar con la recursión lineal, consideremos el problema de decidir si un número es primo o no. Recordemos que un número entero $n$ es primo si y sólo si $n\\geq 2$ y los únicos factores de $n$ son el 1 y $n$. Una manera de solucionar este problema por medio de fuerza bruta, es probar cada entero en el rango $[2,n-1]$ y verificar si alguno de estos divide a $n$ sin generar resto. Podemos implementar esto recursivamente en Python, de la siguiente manera:"
   ]
  },
  {
   "cell_type": "code",
   "execution_count": 3,
   "metadata": {},
   "outputs": [
    {
     "data": {
      "text/plain": [
       "False"
      ]
     },
     "execution_count": 3,
     "metadata": {},
     "output_type": "execute_result"
    }
   ],
   "source": [
    "def factor_en_rango(k, n):\n",
    "   if k >= n:   \n",
    "      return False                   \n",
    "   elif (n % k) == 0:             \n",
    "      return True                  \n",
    "   else:                        \n",
    "      return factor_en_rango(k+1, n)\n",
    "      \n",
    "def es_primo(n):\n",
    "   return (n > 1) and not factor_en_rango(2, n)\n",
    "\n",
    "es_primo(917)"
   ]
  },
  {
   "cell_type": "markdown",
   "metadata": {},
   "source": [
    "Tal como en el caso del factorial, es posible notar que no se utilizan variables y que el número de llamadas recursivas en espera de poder retornar, es una cantidad proporcional al valor de entrada."
   ]
  },
  {
   "cell_type": "markdown",
   "metadata": {},
   "source": [
    "## Recursión de árbol\n",
    "\n",
    "Otro patrón de cómputo muy común es el de **recursión de árbol**. Como ejemplo, consideremos el cálculo de la secuencia de números de Fibonacci, donde cada número está dado por la suma de los dos anteriores: 0,1,1,2,3,5,8,13,...\n",
    "\n",
    "En general, los números de Fibonacci pueden definirse mediante la siguiente regla:\n",
    "\n",
    "$$fib(n) = \n",
    "\\begin{cases} \n",
    "    0 & n = 0 \\\\\n",
    "    1 & n = 1 \\\\\n",
    "    fib(n-1) + fib(n-2) & en~otro~caso\n",
    "\\end{cases}$$"
   ]
  },
  {
   "cell_type": "markdown",
   "metadata": {},
   "source": [
    "Tal como antes, podemos transformar esto inmediatamente en una función recursiva para calcular los números de Fibonacci:"
   ]
  },
  {
   "cell_type": "code",
   "execution_count": 6,
   "metadata": {},
   "outputs": [
    {
     "data": {
      "text/plain": [
       "5"
      ]
     },
     "execution_count": 6,
     "metadata": {},
     "output_type": "execute_result"
    }
   ],
   "source": [
    "def fib(n):\n",
    "    if n == 0:\n",
    "        return 0\n",
    "    elif n == 1:\n",
    "        return 1\n",
    "    else:\n",
    "        return fib(n-2) + fib(n-1)\n",
    "\n",
    "fib(5)"
   ]
  },
  {
   "cell_type": "markdown",
   "metadata": {},
   "source": [
    "Consideremos a continuación de manera visual el patrón de cálculo de la función, representado en la siguiente figura:\n",
    "\n",
    "<img src=\"img/fibonacci.gif\">\n",
    "\n",
    "Para calcular $fib(5)$, primero se calcula $fib(4)$ y $fib(3)$. Para $fib(4)$, calculamos $fib(3)$ y $fib(2)$. En general, como se puede apreciar en la figura, la evolución de las llamadas es similar a un árbol. Notemos que los nodos se dividen en 2 en cada nivel (excepto el final), lo que refleja el hecho que $fib$ se llama a si mismo dos veces cada vez que es llamada.\n",
    "\n",
    "Este procedimiento es un ejemplo prototípico de recursión de árbol, pero lamentablemente es una pésima manera de calcular los números de Fibonacci, ya que realiza una gran cantidad de trabajo redundante. Notemos en la figura que el cálculo de $fib(3)$, casi la mitad del trabajo, está duplicado."
   ]
  },
  {
   "cell_type": "markdown",
   "metadata": {},
   "source": [
    "Thus, the process uses a number of steps that grows exponentially with the input. On the other hand, the space required grows only linearly with the input, because we need keep track only of which nodes are above us in the tree at any point in the computation. In general, the number of steps required by a tree-recursive process will be proportional to the number of nodes in the tree, while the space required will be proportional to the maximum depth of the tree.\n",
    "\n",
    "We can also formulate an iterative process for computing the Fibonacci numbers. The idea is to use a pair of integers a and b, initialized to Fib(1) = 1 and Fib(0) = 0, and to repeatedly apply the simultaneous transformations\n",
    "\n",
    "\\begin{align*}\n",
    "    producto &= contador \\cdot producto \\\\\n",
    "    contador &= contador + 1\n",
    "\\end{align*}\n",
    "\n",
    "It is not hard to show that, after applying this transformation n times, a and b will be equal, respectively, to Fib(n + 1) and Fib(n). Thus, we can compute Fibonacci numbers iteratively using the procedure\n",
    "\n",
    "(define (fib n)\n",
    "  (fib-iter 1 0 n))\n",
    "\n",
    "(define (fib-iter a b count)\n",
    "  (if (= count 0)\n",
    "      b\n",
    "      (fib-iter (+ a b) a (- count 1))))\n",
    "\n",
    "This second method for computing Fib(n) is a linear iteration. The difference in number of steps required by the two methods -- one linear in n, one growing as fast as Fib(n) itself -- is enormous, even for small inputs.\n",
    "\n",
    "One should not conclude from this that tree-recursive processes are useless. When we consider processes that operate on hierarchically structured data rather than numbers, we will find that tree recursion is a natural and powerful tool.32 But even in numerical operations, tree-recursive processes can be useful in helping us to understand and design programs. For instance, although the first fib procedure is much less efficient than the second one, it is more straightforward, being little more than a translation into Lisp of the definition of the Fibonacci sequence. To formulate the iterative algorithm required noticing that the computation could be recast as an iteration with three state variables."
   ]
  },
  {
   "cell_type": "markdown",
   "metadata": {},
   "source": [
    "It takes only a bit of cleverness to come up with the iterative Fibonacci algorithm. In contrast, consider the following problem: How many different ways can we make change of $ 1.00, given half-dollars, quarters, dimes, nickels, and pennies? More generally, can we write a procedure to compute the number of ways to change any given amount of money?\n",
    "\n",
    "This problem has a simple solution as a recursive procedure. Suppose we think of the types of coins available as arranged in some order. Then the following relation holds:\n",
    "\n",
    "The number of ways to change amount a using n kinds of coins equals\n",
    "\n",
    "the number of ways to change amount a using all but the first kind of coin, plus\n",
    "the number of ways to change amount a - d using all n kinds of coins, where d is the denomination of the first kind of coin.\n",
    "To see why this is true, observe that the ways to make change can be divided into two groups: those that do not use any of the first kind of coin, and those that do. Therefore, the total number of ways to make change for some amount is equal to the number of ways to make change for the amount without using any of the first kind of coin, plus the number of ways to make change assuming that we do use the first kind of coin. But the latter number is equal to the number of ways to make change for the amount that remains after using a coin of the first kind.\n",
    "\n",
    "Thus, we can recursively reduce the problem of changing a given amount to the problem of changing smaller amounts using fewer kinds of coins. Consider this reduction rule carefully, and convince yourself that we can use it to describe an algorithm if we specify the following degenerate cases:33\n",
    "\n",
    "If a is exactly 0, we should count that as 1 way to make change.\n",
    "If a is less than 0, we should count that as 0 ways to make change.\n",
    "If n is 0, we should count that as 0 ways to make change.\n",
    "We can easily translate this description into a recursive procedure:\n",
    "\n",
    "(define (count-change amount)\n",
    "  (cc amount 5))\n",
    "(define (cc amount kinds-of-coins)\n",
    "  (cond ((= amount 0) 1)\n",
    "        ((or (< amount 0) (= kinds-of-coins 0)) 0)\n",
    "        (else (+ (cc amount\n",
    "                     (- kinds-of-coins 1))\n",
    "                 (cc (- amount\n",
    "                        (first-denomination kinds-of-coins))\n",
    "                     kinds-of-coins)))))\n",
    "(define (first-denomination kinds-of-coins)\n",
    "  (cond ((= kinds-of-coins 1) 1)\n",
    "        ((= kinds-of-coins 2) 5)\n",
    "        ((= kinds-of-coins 3) 10)\n",
    "        ((= kinds-of-coins 4) 25)\n",
    "        ((= kinds-of-coins 5) 50)))\n",
    "\n",
    "(The first-denomination procedure takes as input the number of kinds of coins available and returns the denomination of the first kind. Here we are thinking of the coins as arranged in order from largest to smallest, but any order would do as well.) We can now answer our original question about changing a dollar:\n",
    "\n",
    "(count-change 100)\n",
    "292\n",
    "\n",
    "Count-change generates a tree-recursive process with redundancies similar to those in our first implementation of fib. (It will take quite a while for that 292 to be computed.) On the other hand, it is not obvious how to design a better algorithm for computing the result, and we leave this problem as a challenge. The observation that a tree-recursive process may be highly inefficient but often easy to specify and understand has led people to propose that one could get the best of both worlds by designing a ``smart compiler'' that could transform tree-recursive procedures into more efficient procedures that compute the same result."
   ]
  }
 ],
 "metadata": {
  "kernelspec": {
   "display_name": "Python 3",
   "language": "python",
   "name": "python3"
  },
  "language_info": {
   "codemirror_mode": {
    "name": "ipython",
    "version": 3
   },
   "file_extension": ".py",
   "mimetype": "text/x-python",
   "name": "python",
   "nbconvert_exporter": "python",
   "pygments_lexer": "ipython3",
   "version": "3.6.1"
  }
 },
 "nbformat": 4,
 "nbformat_minor": 2
}
